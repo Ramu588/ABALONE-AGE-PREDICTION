{
 "cells": [
  {
   "cell_type": "markdown",
   "id": "64eb5d56",
   "metadata": {},
   "source": [
    "# <center><img src=\"https://github.com/insaid2018/Term-1/blob/master/Images/INSAID_Full%20Logo.png?raw=true\" width=\"240\" height=\"100\" /></center>\n",
    "\n",
    "\n",
    "## **<center>ML1: ABALONE AGE PREDICTION</center>**"
   ]
  },
  {
   "cell_type": "markdown",
   "id": "167f919d",
   "metadata": {},
   "source": [
    "<a name = Section2></a>\n",
    "# **Problem Statement**\n",
    "---\n",
    "\n",
    "The current process suffers from the following problems:\n",
    "\n",
    "- Since the age of abalone is determined by cutting the shell through the cone, staining it, and counting the number of rings through a microscope.\n",
    "\n",
    "- This becomes a quite boring and time-consuming task.\n",
    "\n",
    "- The company has hired you as data science consultants. They want to automate the process of predicting the age of abalone from other physical measurements rather than doing this manual work."
   ]
  },
  {
   "cell_type": "markdown",
   "id": "23fe61bf",
   "metadata": {},
   "source": [
    "<a name = Section33></a>\n",
    "### **Importing Libraries**"
   ]
  },
  {
   "cell_type": "code",
   "execution_count": 2,
   "id": "418bfe20",
   "metadata": {},
   "outputs": [],
   "source": [
    "import numpy as np\n",
    "import pandas as pd\n",
    "import matplotlib.pyplot as plt\n",
    "import seaborn as sns\n",
    "%matplotlib inline\n",
    "\n",
    "from sklearn.model_selection import train_test_split\n",
    "from sklearn.preprocessing import StandardScaler\n",
    "from sklearn import metrics\n",
    "from sklearn.preprocessing import LabelEncoder\n",
    "from sklearn.linear_model import LinearRegression\n",
    "from sklearn.tree import DecisionTreeRegressor\n",
    "from sklearn.ensemble import RandomForestRegressor\n",
    "from sklearn.metrics import mean_squared_error,mean_absolute_error,r2_score\n",
    "\n",
    "import warnings\n",
    "warnings.filterwarnings(\"ignore\")"
   ]
  },
  {
   "cell_type": "markdown",
   "id": "86a29ca9",
   "metadata": {},
   "source": [
    "<a name = Section33></a>\n",
    "### **Data Acquisition**"
   ]
  },
  {
   "cell_type": "code",
   "execution_count": 33,
   "id": "0e4bc7e8",
   "metadata": {},
   "outputs": [],
   "source": [
    "train=pd.read_csv('abalone_train.csv')"
   ]
  },
  {
   "cell_type": "code",
   "execution_count": 4,
   "id": "22bed926",
   "metadata": {},
   "outputs": [
    {
     "data": {
      "text/html": [
       "<div>\n",
       "<style scoped>\n",
       "    .dataframe tbody tr th:only-of-type {\n",
       "        vertical-align: middle;\n",
       "    }\n",
       "\n",
       "    .dataframe tbody tr th {\n",
       "        vertical-align: top;\n",
       "    }\n",
       "\n",
       "    .dataframe thead th {\n",
       "        text-align: right;\n",
       "    }\n",
       "</style>\n",
       "<table border=\"1\" class=\"dataframe\">\n",
       "  <thead>\n",
       "    <tr style=\"text-align: right;\">\n",
       "      <th></th>\n",
       "      <th>Id</th>\n",
       "      <th>Sex</th>\n",
       "      <th>Length</th>\n",
       "      <th>Diameter</th>\n",
       "      <th>Height</th>\n",
       "      <th>Whole_weight</th>\n",
       "      <th>Shucked_weight</th>\n",
       "      <th>Viscera_weight</th>\n",
       "      <th>Shell_weight</th>\n",
       "      <th>Rings</th>\n",
       "    </tr>\n",
       "  </thead>\n",
       "  <tbody>\n",
       "    <tr>\n",
       "      <th>0</th>\n",
       "      <td>3141</td>\n",
       "      <td>I</td>\n",
       "      <td>0.180</td>\n",
       "      <td>0.135</td>\n",
       "      <td>0.080</td>\n",
       "      <td>0.0330</td>\n",
       "      <td>0.0145</td>\n",
       "      <td>0.0070</td>\n",
       "      <td>0.0100</td>\n",
       "      <td>5</td>\n",
       "    </tr>\n",
       "    <tr>\n",
       "      <th>1</th>\n",
       "      <td>3521</td>\n",
       "      <td>I</td>\n",
       "      <td>0.215</td>\n",
       "      <td>0.150</td>\n",
       "      <td>0.055</td>\n",
       "      <td>0.0410</td>\n",
       "      <td>0.0150</td>\n",
       "      <td>0.0090</td>\n",
       "      <td>0.0125</td>\n",
       "      <td>3</td>\n",
       "    </tr>\n",
       "    <tr>\n",
       "      <th>2</th>\n",
       "      <td>883</td>\n",
       "      <td>M</td>\n",
       "      <td>0.660</td>\n",
       "      <td>0.530</td>\n",
       "      <td>0.170</td>\n",
       "      <td>1.3905</td>\n",
       "      <td>0.5905</td>\n",
       "      <td>0.2120</td>\n",
       "      <td>0.4530</td>\n",
       "      <td>15</td>\n",
       "    </tr>\n",
       "    <tr>\n",
       "      <th>3</th>\n",
       "      <td>3627</td>\n",
       "      <td>M</td>\n",
       "      <td>0.715</td>\n",
       "      <td>0.525</td>\n",
       "      <td>0.200</td>\n",
       "      <td>1.8900</td>\n",
       "      <td>0.9500</td>\n",
       "      <td>0.4360</td>\n",
       "      <td>0.4305</td>\n",
       "      <td>10</td>\n",
       "    </tr>\n",
       "    <tr>\n",
       "      <th>4</th>\n",
       "      <td>2106</td>\n",
       "      <td>M</td>\n",
       "      <td>0.595</td>\n",
       "      <td>0.455</td>\n",
       "      <td>0.155</td>\n",
       "      <td>1.0410</td>\n",
       "      <td>0.4160</td>\n",
       "      <td>0.2105</td>\n",
       "      <td>0.3650</td>\n",
       "      <td>14</td>\n",
       "    </tr>\n",
       "  </tbody>\n",
       "</table>\n",
       "</div>"
      ],
      "text/plain": [
       "     Id Sex  Length  Diameter  Height  Whole_weight  Shucked_weight  \\\n",
       "0  3141   I   0.180     0.135   0.080        0.0330          0.0145   \n",
       "1  3521   I   0.215     0.150   0.055        0.0410          0.0150   \n",
       "2   883   M   0.660     0.530   0.170        1.3905          0.5905   \n",
       "3  3627   M   0.715     0.525   0.200        1.8900          0.9500   \n",
       "4  2106   M   0.595     0.455   0.155        1.0410          0.4160   \n",
       "\n",
       "   Viscera_weight  Shell_weight  Rings  \n",
       "0          0.0070        0.0100      5  \n",
       "1          0.0090        0.0125      3  \n",
       "2          0.2120        0.4530     15  \n",
       "3          0.4360        0.4305     10  \n",
       "4          0.2105        0.3650     14  "
      ]
     },
     "execution_count": 4,
     "metadata": {},
     "output_type": "execute_result"
    }
   ],
   "source": [
    "train.head()"
   ]
  },
  {
   "cell_type": "markdown",
   "id": "3e8f4063",
   "metadata": {},
   "source": [
    "### Dataset Feature Description\n",
    "The Dataset contains the following columns:"
   ]
  },
  {
   "cell_type": "markdown",
   "id": "c7f8f16d",
   "metadata": {},
   "source": [
    "||Column Name|Description|\n",
    "|:--|:--|:--|\n",
    "||**ID**| Unique Id of the sample. |\n",
    "||**Sex**| The sex of the abalone (M, F, and I (infant)). |\n",
    "||**Length**| Longest shell measurement (mm). |\n",
    "||**Diameter**| Diameter of abalone perpendicular to length (mm). |\n",
    "||**Height**| Height of abalone with meat in the shell (mm).|\n",
    "||**Whole_weight**| Weight of the whole abalone (grams). |\n",
    "||**Shucked_weight**| Weight of the meat of abalone (grams). |\n",
    "||**Viscera_weight**| Gut weight (after bleeding) of the abalone (grams). |\n",
    "||**Shell_weight**| Weight of the abalone after being dried (grams).|\n",
    "||**Rings**| Number of Rings in the abalone.|"
   ]
  },
  {
   "cell_type": "markdown",
   "id": "0df57c67",
   "metadata": {},
   "source": [
    "<a name = Section41></a>\n",
    "### **Data Info, Data Description and Null Value Checking**\n",
    "\n",
    "- In this section we will get **description** and **statistics** about the data."
   ]
  },
  {
   "cell_type": "code",
   "execution_count": 5,
   "id": "cc953fb4",
   "metadata": {
    "scrolled": true
   },
   "outputs": [
    {
     "name": "stdout",
     "output_type": "stream",
     "text": [
      "<class 'pandas.core.frame.DataFrame'>\n",
      "RangeIndex: 3341 entries, 0 to 3340\n",
      "Data columns (total 10 columns):\n",
      " #   Column          Non-Null Count  Dtype  \n",
      "---  ------          --------------  -----  \n",
      " 0   Id              3341 non-null   int64  \n",
      " 1   Sex             3341 non-null   object \n",
      " 2   Length          3341 non-null   float64\n",
      " 3   Diameter        3341 non-null   float64\n",
      " 4   Height          3341 non-null   float64\n",
      " 5   Whole_weight    3341 non-null   float64\n",
      " 6   Shucked_weight  3341 non-null   float64\n",
      " 7   Viscera_weight  3341 non-null   float64\n",
      " 8   Shell_weight    3341 non-null   float64\n",
      " 9   Rings           3341 non-null   int64  \n",
      "dtypes: float64(7), int64(2), object(1)\n",
      "memory usage: 261.1+ KB\n"
     ]
    }
   ],
   "source": [
    "train.info()"
   ]
  },
  {
   "cell_type": "code",
   "execution_count": 8,
   "id": "12b0a754",
   "metadata": {},
   "outputs": [
    {
     "data": {
      "text/html": [
       "<div>\n",
       "<style scoped>\n",
       "    .dataframe tbody tr th:only-of-type {\n",
       "        vertical-align: middle;\n",
       "    }\n",
       "\n",
       "    .dataframe tbody tr th {\n",
       "        vertical-align: top;\n",
       "    }\n",
       "\n",
       "    .dataframe thead th {\n",
       "        text-align: right;\n",
       "    }\n",
       "</style>\n",
       "<table border=\"1\" class=\"dataframe\">\n",
       "  <thead>\n",
       "    <tr style=\"text-align: right;\">\n",
       "      <th></th>\n",
       "      <th>count</th>\n",
       "      <th>mean</th>\n",
       "      <th>std</th>\n",
       "      <th>min</th>\n",
       "      <th>25%</th>\n",
       "      <th>50%</th>\n",
       "      <th>75%</th>\n",
       "      <th>max</th>\n",
       "    </tr>\n",
       "  </thead>\n",
       "  <tbody>\n",
       "    <tr>\n",
       "      <th>Id</th>\n",
       "      <td>3341.0</td>\n",
       "      <td>2085.442083</td>\n",
       "      <td>1197.721846</td>\n",
       "      <td>0.0000</td>\n",
       "      <td>1055.0000</td>\n",
       "      <td>2086.0000</td>\n",
       "      <td>3114.0000</td>\n",
       "      <td>4175.0000</td>\n",
       "    </tr>\n",
       "    <tr>\n",
       "      <th>Length</th>\n",
       "      <td>3341.0</td>\n",
       "      <td>0.525887</td>\n",
       "      <td>0.119759</td>\n",
       "      <td>0.0750</td>\n",
       "      <td>0.4500</td>\n",
       "      <td>0.5450</td>\n",
       "      <td>0.6200</td>\n",
       "      <td>0.8150</td>\n",
       "    </tr>\n",
       "    <tr>\n",
       "      <th>Diameter</th>\n",
       "      <td>3341.0</td>\n",
       "      <td>0.409463</td>\n",
       "      <td>0.098895</td>\n",
       "      <td>0.0550</td>\n",
       "      <td>0.3500</td>\n",
       "      <td>0.4250</td>\n",
       "      <td>0.4850</td>\n",
       "      <td>0.6500</td>\n",
       "    </tr>\n",
       "    <tr>\n",
       "      <th>Height</th>\n",
       "      <td>3341.0</td>\n",
       "      <td>0.140129</td>\n",
       "      <td>0.042623</td>\n",
       "      <td>0.0000</td>\n",
       "      <td>0.1150</td>\n",
       "      <td>0.1450</td>\n",
       "      <td>0.1650</td>\n",
       "      <td>1.1300</td>\n",
       "    </tr>\n",
       "    <tr>\n",
       "      <th>Whole_weight</th>\n",
       "      <td>3341.0</td>\n",
       "      <td>0.838176</td>\n",
       "      <td>0.493789</td>\n",
       "      <td>0.0020</td>\n",
       "      <td>0.4445</td>\n",
       "      <td>0.8100</td>\n",
       "      <td>1.1685</td>\n",
       "      <td>2.7795</td>\n",
       "    </tr>\n",
       "    <tr>\n",
       "      <th>Shucked_weight</th>\n",
       "      <td>3341.0</td>\n",
       "      <td>0.363600</td>\n",
       "      <td>0.224156</td>\n",
       "      <td>0.0010</td>\n",
       "      <td>0.1880</td>\n",
       "      <td>0.3415</td>\n",
       "      <td>0.5095</td>\n",
       "      <td>1.4880</td>\n",
       "    </tr>\n",
       "    <tr>\n",
       "      <th>Viscera_weight</th>\n",
       "      <td>3341.0</td>\n",
       "      <td>0.182507</td>\n",
       "      <td>0.110439</td>\n",
       "      <td>0.0005</td>\n",
       "      <td>0.0935</td>\n",
       "      <td>0.1725</td>\n",
       "      <td>0.2555</td>\n",
       "      <td>0.7600</td>\n",
       "    </tr>\n",
       "    <tr>\n",
       "      <th>Shell_weight</th>\n",
       "      <td>3341.0</td>\n",
       "      <td>0.241385</td>\n",
       "      <td>0.139828</td>\n",
       "      <td>0.0015</td>\n",
       "      <td>0.1320</td>\n",
       "      <td>0.2350</td>\n",
       "      <td>0.3300</td>\n",
       "      <td>1.0050</td>\n",
       "    </tr>\n",
       "    <tr>\n",
       "      <th>Rings</th>\n",
       "      <td>3341.0</td>\n",
       "      <td>9.958396</td>\n",
       "      <td>3.205591</td>\n",
       "      <td>1.0000</td>\n",
       "      <td>8.0000</td>\n",
       "      <td>10.0000</td>\n",
       "      <td>11.0000</td>\n",
       "      <td>27.0000</td>\n",
       "    </tr>\n",
       "  </tbody>\n",
       "</table>\n",
       "</div>"
      ],
      "text/plain": [
       "                 count         mean          std     min        25%  \\\n",
       "Id              3341.0  2085.442083  1197.721846  0.0000  1055.0000   \n",
       "Length          3341.0     0.525887     0.119759  0.0750     0.4500   \n",
       "Diameter        3341.0     0.409463     0.098895  0.0550     0.3500   \n",
       "Height          3341.0     0.140129     0.042623  0.0000     0.1150   \n",
       "Whole_weight    3341.0     0.838176     0.493789  0.0020     0.4445   \n",
       "Shucked_weight  3341.0     0.363600     0.224156  0.0010     0.1880   \n",
       "Viscera_weight  3341.0     0.182507     0.110439  0.0005     0.0935   \n",
       "Shell_weight    3341.0     0.241385     0.139828  0.0015     0.1320   \n",
       "Rings           3341.0     9.958396     3.205591  1.0000     8.0000   \n",
       "\n",
       "                      50%        75%        max  \n",
       "Id              2086.0000  3114.0000  4175.0000  \n",
       "Length             0.5450     0.6200     0.8150  \n",
       "Diameter           0.4250     0.4850     0.6500  \n",
       "Height             0.1450     0.1650     1.1300  \n",
       "Whole_weight       0.8100     1.1685     2.7795  \n",
       "Shucked_weight     0.3415     0.5095     1.4880  \n",
       "Viscera_weight     0.1725     0.2555     0.7600  \n",
       "Shell_weight       0.2350     0.3300     1.0050  \n",
       "Rings             10.0000    11.0000    27.0000  "
      ]
     },
     "execution_count": 8,
     "metadata": {},
     "output_type": "execute_result"
    }
   ],
   "source": [
    "train.describe().T"
   ]
  },
  {
   "cell_type": "code",
   "execution_count": 9,
   "id": "4274f795",
   "metadata": {},
   "outputs": [
    {
     "data": {
      "application/vnd.jupyter.widget-view+json": {
       "model_id": "eb2069dca8934153afe5c25a8cb0e4f6",
       "version_major": 2,
       "version_minor": 0
      },
      "text/plain": [
       "Summarize dataset:   0%|          | 0/22 [00:00<?, ?it/s]"
      ]
     },
     "metadata": {},
     "output_type": "display_data"
    },
    {
     "data": {
      "application/vnd.jupyter.widget-view+json": {
       "model_id": "7f6347a57ff84339ad6fb3ab4c8601f7",
       "version_major": 2,
       "version_minor": 0
      },
      "text/plain": [
       "Generate report structure:   0%|          | 0/1 [00:00<?, ?it/s]"
      ]
     },
     "metadata": {},
     "output_type": "display_data"
    },
    {
     "data": {
      "application/vnd.jupyter.widget-view+json": {
       "model_id": "",
       "version_major": 2,
       "version_minor": 0
      },
      "text/plain": [
       "Render widgets:   0%|          | 0/1 [00:00<?, ?it/s]"
      ]
     },
     "metadata": {},
     "output_type": "display_data"
    },
    {
     "data": {
      "application/vnd.jupyter.widget-view+json": {
       "model_id": "e1a3d3a6d0b243b2a79c0a4be52875da",
       "version_major": 2,
       "version_minor": 0
      },
      "text/plain": [
       "VBox(children=(Tab(children=(Tab(children=(GridBox(children=(VBox(children=(GridspecLayout(children=(HTML(valu…"
      ]
     },
     "metadata": {},
     "output_type": "display_data"
    }
   ],
   "source": [
    "from pandas_profiling import ProfileReport\n",
    "profile=ProfileReport(train,title='Pandas Profile Report')\n",
    "profile.to_widgets()"
   ]
  },
  {
   "cell_type": "code",
   "execution_count": 16,
   "id": "9c570847",
   "metadata": {},
   "outputs": [],
   "source": [
    "#drop ID column\n",
    "train.drop(columns=['Id'],inplace=True)"
   ]
  },
  {
   "cell_type": "code",
   "execution_count": 10,
   "id": "235b8bd7",
   "metadata": {},
   "outputs": [
    {
     "data": {
      "text/plain": [
       "array(['I', 'M', 'F'], dtype=object)"
      ]
     },
     "execution_count": 10,
     "metadata": {},
     "output_type": "execute_result"
    }
   ],
   "source": [
    "train['Sex'].unique()"
   ]
  },
  {
   "cell_type": "code",
   "execution_count": 14,
   "id": "e16a74d3",
   "metadata": {},
   "outputs": [],
   "source": [
    "#Applying One-hot encoding for Sex column \n",
    "train=pd.get_dummies(train,columns=['Sex'],drop_first=True)"
   ]
  },
  {
   "cell_type": "code",
   "execution_count": 17,
   "id": "a46c6909",
   "metadata": {},
   "outputs": [
    {
     "data": {
      "text/html": [
       "<div>\n",
       "<style scoped>\n",
       "    .dataframe tbody tr th:only-of-type {\n",
       "        vertical-align: middle;\n",
       "    }\n",
       "\n",
       "    .dataframe tbody tr th {\n",
       "        vertical-align: top;\n",
       "    }\n",
       "\n",
       "    .dataframe thead th {\n",
       "        text-align: right;\n",
       "    }\n",
       "</style>\n",
       "<table border=\"1\" class=\"dataframe\">\n",
       "  <thead>\n",
       "    <tr style=\"text-align: right;\">\n",
       "      <th></th>\n",
       "      <th>Length</th>\n",
       "      <th>Diameter</th>\n",
       "      <th>Height</th>\n",
       "      <th>Whole_weight</th>\n",
       "      <th>Shucked_weight</th>\n",
       "      <th>Viscera_weight</th>\n",
       "      <th>Shell_weight</th>\n",
       "      <th>Rings</th>\n",
       "      <th>Sex_I</th>\n",
       "      <th>Sex_M</th>\n",
       "    </tr>\n",
       "  </thead>\n",
       "  <tbody>\n",
       "    <tr>\n",
       "      <th>0</th>\n",
       "      <td>0.180</td>\n",
       "      <td>0.135</td>\n",
       "      <td>0.080</td>\n",
       "      <td>0.0330</td>\n",
       "      <td>0.0145</td>\n",
       "      <td>0.0070</td>\n",
       "      <td>0.0100</td>\n",
       "      <td>5</td>\n",
       "      <td>1</td>\n",
       "      <td>0</td>\n",
       "    </tr>\n",
       "    <tr>\n",
       "      <th>1</th>\n",
       "      <td>0.215</td>\n",
       "      <td>0.150</td>\n",
       "      <td>0.055</td>\n",
       "      <td>0.0410</td>\n",
       "      <td>0.0150</td>\n",
       "      <td>0.0090</td>\n",
       "      <td>0.0125</td>\n",
       "      <td>3</td>\n",
       "      <td>1</td>\n",
       "      <td>0</td>\n",
       "    </tr>\n",
       "    <tr>\n",
       "      <th>2</th>\n",
       "      <td>0.660</td>\n",
       "      <td>0.530</td>\n",
       "      <td>0.170</td>\n",
       "      <td>1.3905</td>\n",
       "      <td>0.5905</td>\n",
       "      <td>0.2120</td>\n",
       "      <td>0.4530</td>\n",
       "      <td>15</td>\n",
       "      <td>0</td>\n",
       "      <td>1</td>\n",
       "    </tr>\n",
       "    <tr>\n",
       "      <th>3</th>\n",
       "      <td>0.715</td>\n",
       "      <td>0.525</td>\n",
       "      <td>0.200</td>\n",
       "      <td>1.8900</td>\n",
       "      <td>0.9500</td>\n",
       "      <td>0.4360</td>\n",
       "      <td>0.4305</td>\n",
       "      <td>10</td>\n",
       "      <td>0</td>\n",
       "      <td>1</td>\n",
       "    </tr>\n",
       "    <tr>\n",
       "      <th>4</th>\n",
       "      <td>0.595</td>\n",
       "      <td>0.455</td>\n",
       "      <td>0.155</td>\n",
       "      <td>1.0410</td>\n",
       "      <td>0.4160</td>\n",
       "      <td>0.2105</td>\n",
       "      <td>0.3650</td>\n",
       "      <td>14</td>\n",
       "      <td>0</td>\n",
       "      <td>1</td>\n",
       "    </tr>\n",
       "    <tr>\n",
       "      <th>...</th>\n",
       "      <td>...</td>\n",
       "      <td>...</td>\n",
       "      <td>...</td>\n",
       "      <td>...</td>\n",
       "      <td>...</td>\n",
       "      <td>...</td>\n",
       "      <td>...</td>\n",
       "      <td>...</td>\n",
       "      <td>...</td>\n",
       "      <td>...</td>\n",
       "    </tr>\n",
       "    <tr>\n",
       "      <th>3336</th>\n",
       "      <td>0.650</td>\n",
       "      <td>0.525</td>\n",
       "      <td>0.185</td>\n",
       "      <td>1.6220</td>\n",
       "      <td>0.6645</td>\n",
       "      <td>0.3225</td>\n",
       "      <td>0.4770</td>\n",
       "      <td>10</td>\n",
       "      <td>0</td>\n",
       "      <td>1</td>\n",
       "    </tr>\n",
       "    <tr>\n",
       "      <th>3337</th>\n",
       "      <td>0.655</td>\n",
       "      <td>0.500</td>\n",
       "      <td>0.140</td>\n",
       "      <td>1.1705</td>\n",
       "      <td>0.5405</td>\n",
       "      <td>0.3175</td>\n",
       "      <td>0.2850</td>\n",
       "      <td>12</td>\n",
       "      <td>0</td>\n",
       "      <td>0</td>\n",
       "    </tr>\n",
       "    <tr>\n",
       "      <th>3338</th>\n",
       "      <td>0.595</td>\n",
       "      <td>0.450</td>\n",
       "      <td>0.145</td>\n",
       "      <td>0.9590</td>\n",
       "      <td>0.4630</td>\n",
       "      <td>0.2065</td>\n",
       "      <td>0.2535</td>\n",
       "      <td>10</td>\n",
       "      <td>0</td>\n",
       "      <td>1</td>\n",
       "    </tr>\n",
       "    <tr>\n",
       "      <th>3339</th>\n",
       "      <td>0.625</td>\n",
       "      <td>0.490</td>\n",
       "      <td>0.165</td>\n",
       "      <td>1.1270</td>\n",
       "      <td>0.4770</td>\n",
       "      <td>0.2365</td>\n",
       "      <td>0.3185</td>\n",
       "      <td>9</td>\n",
       "      <td>0</td>\n",
       "      <td>0</td>\n",
       "    </tr>\n",
       "    <tr>\n",
       "      <th>3340</th>\n",
       "      <td>0.410</td>\n",
       "      <td>0.325</td>\n",
       "      <td>0.110</td>\n",
       "      <td>0.3260</td>\n",
       "      <td>0.1325</td>\n",
       "      <td>0.0750</td>\n",
       "      <td>0.1010</td>\n",
       "      <td>8</td>\n",
       "      <td>1</td>\n",
       "      <td>0</td>\n",
       "    </tr>\n",
       "  </tbody>\n",
       "</table>\n",
       "<p>3341 rows × 10 columns</p>\n",
       "</div>"
      ],
      "text/plain": [
       "      Length  Diameter  Height  Whole_weight  Shucked_weight  Viscera_weight  \\\n",
       "0      0.180     0.135   0.080        0.0330          0.0145          0.0070   \n",
       "1      0.215     0.150   0.055        0.0410          0.0150          0.0090   \n",
       "2      0.660     0.530   0.170        1.3905          0.5905          0.2120   \n",
       "3      0.715     0.525   0.200        1.8900          0.9500          0.4360   \n",
       "4      0.595     0.455   0.155        1.0410          0.4160          0.2105   \n",
       "...      ...       ...     ...           ...             ...             ...   \n",
       "3336   0.650     0.525   0.185        1.6220          0.6645          0.3225   \n",
       "3337   0.655     0.500   0.140        1.1705          0.5405          0.3175   \n",
       "3338   0.595     0.450   0.145        0.9590          0.4630          0.2065   \n",
       "3339   0.625     0.490   0.165        1.1270          0.4770          0.2365   \n",
       "3340   0.410     0.325   0.110        0.3260          0.1325          0.0750   \n",
       "\n",
       "      Shell_weight  Rings  Sex_I  Sex_M  \n",
       "0           0.0100      5      1      0  \n",
       "1           0.0125      3      1      0  \n",
       "2           0.4530     15      0      1  \n",
       "3           0.4305     10      0      1  \n",
       "4           0.3650     14      0      1  \n",
       "...            ...    ...    ...    ...  \n",
       "3336        0.4770     10      0      1  \n",
       "3337        0.2850     12      0      0  \n",
       "3338        0.2535     10      0      1  \n",
       "3339        0.3185      9      0      0  \n",
       "3340        0.1010      8      1      0  \n",
       "\n",
       "[3341 rows x 10 columns]"
      ]
     },
     "execution_count": 17,
     "metadata": {},
     "output_type": "execute_result"
    }
   ],
   "source": [
    "train"
   ]
  },
  {
   "cell_type": "code",
   "execution_count": 29,
   "id": "2323e1c9",
   "metadata": {},
   "outputs": [
    {
     "data": {
      "image/png": "[encoded data removed]",
      "text/plain": [
       "<Figure size 720x432 with 1 Axes>"
      ]
     },
     "metadata": {},
     "output_type": "display_data"
    }
   ],
   "source": [
    "#Distribution of Rings\n",
    "plt.figure(figsize=(10,6))\n",
    "sns.histplot(data=train,x='Rings',kde=True)\n",
    "plt.title('Distribution of Rings',fontsize=14)\n",
    "plt.show()"
   ]
  },
  {
   "cell_type": "code",
   "execution_count": 32,
   "id": "78d5aa5f",
   "metadata": {},
   "outputs": [
    {
     "data": {
      "image/png": "[encoded data removed]",
      "text/plain": [
       "<Figure size 864x432 with 2 Axes>"
      ]
     },
     "metadata": {},
     "output_type": "display_data"
    }
   ],
   "source": [
    "#Checking for correlations using Heatmap.\n",
    "plt.figure(figsize=(12,6))\n",
    "sns.heatmap(train.corr(),annot=True)\n",
    "plt.show()"
   ]
  },
  {
   "cell_type": "code",
   "execution_count": 37,
   "id": "40a75b41",
   "metadata": {},
   "outputs": [
    {
     "data": {
      "text/plain": [
       "<AxesSubplot:ylabel='Height'>"
      ]
     },
     "execution_count": 37,
     "metadata": {},
     "output_type": "execute_result"
    },
    {
     "data": {
      "image/png": "[encoded data removed]",
      "text/plain": [
       "<Figure size 576x396 with 1 Axes>"
      ]
     },
     "metadata": {},
     "output_type": "display_data"
    }
   ],
   "source": [
    "#Outlier checking for Heigh column\n",
    "sns.boxplot(data=train,y='Height')"
   ]
  },
  {
   "cell_type": "code",
   "execution_count": 41,
   "id": "6b2e21f4",
   "metadata": {},
   "outputs": [
    {
     "data": {
      "text/plain": [
       "<AxesSubplot:ylabel='Length'>"
      ]
     },
     "execution_count": 41,
     "metadata": {},
     "output_type": "execute_result"
    },
    {
     "data": {
      "image/png": "[encoded data removed]",
      "text/plain": [
       "<Figure size 576x396 with 1 Axes>"
      ]
     },
     "metadata": {},
     "output_type": "display_data"
    }
   ],
   "source": [
    "#Outlier checking for Length column\n",
    "sns.boxplot(data=train,y='Length')"
   ]
  },
  {
   "cell_type": "markdown",
   "id": "f1362c79",
   "metadata": {},
   "source": [
    "#### Splitig the data"
   ]
  },
  {
   "cell_type": "code",
   "execution_count": 18,
   "id": "c42566ef",
   "metadata": {},
   "outputs": [],
   "source": [
    "X=train.drop('Rings',axis=1)\n",
    "y=train['Rings']"
   ]
  },
  {
   "cell_type": "code",
   "execution_count": 19,
   "id": "309f410c",
   "metadata": {},
   "outputs": [],
   "source": [
    "X_train, X_test, y_train, y_test = train_test_split(X, y, test_size=0.20, random_state=1)"
   ]
  },
  {
   "cell_type": "markdown",
   "id": "bcf31dd3",
   "metadata": {},
   "source": [
    "#### Linear Regression"
   ]
  },
  {
   "cell_type": "code",
   "execution_count": 20,
   "id": "5b04aef4",
   "metadata": {},
   "outputs": [],
   "source": [
    "lr=LinearRegression()"
   ]
  },
  {
   "cell_type": "code",
   "execution_count": 21,
   "id": "9a4d8c3e",
   "metadata": {},
   "outputs": [
    {
     "data": {
      "text/plain": [
       "LinearRegression()"
      ]
     },
     "execution_count": 21,
     "metadata": {},
     "output_type": "execute_result"
    }
   ],
   "source": [
    "lr.fit(X_train,y_train)"
   ]
  },
  {
   "cell_type": "code",
   "execution_count": 22,
   "id": "b3d64d91",
   "metadata": {},
   "outputs": [],
   "source": [
    "lr_predictions=lr.predict(X_test)"
   ]
  },
  {
   "cell_type": "code",
   "execution_count": 39,
   "id": "92c0b3cd",
   "metadata": {},
   "outputs": [
    {
     "data": {
      "image/png": "[encoded data removed]",
      "text/plain": [
       "<Figure size 576x396 with 1 Axes>"
      ]
     },
     "metadata": {},
     "output_type": "display_data"
    }
   ],
   "source": [
    "#Regplot between y_yest and predictions\n",
    "sns.regplot(y_test,lr_predictions)\n",
    "plt.xlabel('y_test',fontsize=14)\n",
    "plt.ylabel('Predictions',fontsize=14)\n",
    "plt.show()"
   ]
  },
  {
   "cell_type": "code",
   "execution_count": 40,
   "id": "9b44d404",
   "metadata": {},
   "outputs": [
    {
     "name": "stdout",
     "output_type": "stream",
     "text": [
      "MAE is 1.5177066364673604\n",
      "MSE for test set is 4.264279880669239\n",
      "RMSE for test set is 2.0650132882548817\n",
      "R2 score for test set is 0.5845003451372262\n",
      "Adjusted R2 score for test set is 0.5788258430222566\n"
     ]
    }
   ],
   "source": [
    "MAE = metrics.mean_absolute_error(y_test, lr_predictions)   \n",
    "print('MAE is {}'.format(MAE))\n",
    "\n",
    "MSE = metrics.mean_squared_error(y_test, lr_predictions)\n",
    "print('MSE for test set is {}'.format(MSE))\n",
    "\n",
    "RMSE = np.sqrt(metrics.mean_squared_error(y_test, lr_predictions))\n",
    "print('RMSE for test set is {}'.format(RMSE))\n",
    "\n",
    "r2 = metrics.r2_score(y_test,lr_predictions)\n",
    "print(\"R2 score for test set is {}\".format(r2))\n",
    "\n",
    "adj_r_squared = 1 - (1-r2)*(len(y_test)-1)/(len(y_test)-X_test.shape[1]-1)\n",
    "print(\"Adjusted R2 score for test set is {}\".format(adj_r_squared))"
   ]
  },
  {
   "cell_type": "markdown",
   "id": "0d443279",
   "metadata": {},
   "source": [
    "#### Decision Tree Regression"
   ]
  },
  {
   "cell_type": "code",
   "execution_count": 42,
   "id": "0694bb24",
   "metadata": {},
   "outputs": [],
   "source": [
    "dt=DecisionTreeRegressor()"
   ]
  },
  {
   "cell_type": "code",
   "execution_count": 43,
   "id": "52fd71a8",
   "metadata": {},
   "outputs": [
    {
     "data": {
      "text/plain": [
       "DecisionTreeRegressor()"
      ]
     },
     "execution_count": 43,
     "metadata": {},
     "output_type": "execute_result"
    }
   ],
   "source": [
    "dt.fit(X_train,y_train)"
   ]
  },
  {
   "cell_type": "code",
   "execution_count": 44,
   "id": "05b8b301",
   "metadata": {},
   "outputs": [],
   "source": [
    "dt_predictions=dt.predict(X_test)"
   ]
  },
  {
   "cell_type": "code",
   "execution_count": 46,
   "id": "9b7e556d",
   "metadata": {},
   "outputs": [
    {
     "data": {
      "image/png": "[encoded data removed]",
      "text/plain": [
       "<Figure size 576x396 with 1 Axes>"
      ]
     },
     "metadata": {},
     "output_type": "display_data"
    }
   ],
   "source": [
    "#Regplot between y_yest and predictions\n",
    "sns.regplot(y_test,dt_predictions)\n",
    "plt.xlabel('y_test',fontsize=14)\n",
    "plt.ylabel('Predictions',fontsize=14)\n",
    "plt.show()"
   ]
  },
  {
   "cell_type": "code",
   "execution_count": 47,
   "id": "e5b6b292",
   "metadata": {},
   "outputs": [
    {
     "name": "stdout",
     "output_type": "stream",
     "text": [
      "MAE is 2.0358744394618835\n",
      "MSE for test set is 8.298953662182361\n",
      "RMSE for test set is 2.880790457874776\n",
      "R2 score for test set is 0.1913728744704818\n",
      "Adjusted R2 score for test set is 0.18032940841620926\n"
     ]
    }
   ],
   "source": [
    "MAE = metrics.mean_absolute_error(y_test, dt_predictions)   \n",
    "print('MAE is {}'.format(MAE))\n",
    "\n",
    "MSE = metrics.mean_squared_error(y_test, dt_predictions)\n",
    "print('MSE for test set is {}'.format(MSE))\n",
    "\n",
    "RMSE = np.sqrt(metrics.mean_squared_error(y_test, dt_predictions))\n",
    "print('RMSE for test set is {}'.format(RMSE))\n",
    "\n",
    "r2 = metrics.r2_score(y_test,dt_predictions)\n",
    "print(\"R2 score for test set is {}\".format(r2))\n",
    "\n",
    "adj_r_squared = 1 - (1-r2)*(len(y_test)-1)/(len(y_test)-X_test.shape[1]-1)\n",
    "print(\"Adjusted R2 score for test set is {}\".format(adj_r_squared))"
   ]
  },
  {
   "cell_type": "markdown",
   "id": "96d8c059",
   "metadata": {},
   "source": [
    "#### Random Foresr Regression"
   ]
  },
  {
   "cell_type": "code",
   "execution_count": 48,
   "id": "6c957eb7",
   "metadata": {},
   "outputs": [],
   "source": [
    "rf=RandomForestRegressor()"
   ]
  },
  {
   "cell_type": "code",
   "execution_count": 49,
   "id": "39aa85d5",
   "metadata": {},
   "outputs": [
    {
     "data": {
      "text/plain": [
       "RandomForestRegressor()"
      ]
     },
     "execution_count": 49,
     "metadata": {},
     "output_type": "execute_result"
    }
   ],
   "source": [
    "rf.fit(X_train,y_train)"
   ]
  },
  {
   "cell_type": "code",
   "execution_count": 50,
   "id": "cfec23c5",
   "metadata": {},
   "outputs": [],
   "source": [
    "rf_predictions=rf.predict(X_test)"
   ]
  },
  {
   "cell_type": "code",
   "execution_count": 52,
   "id": "5670f1f5",
   "metadata": {},
   "outputs": [
    {
     "data": {
      "image/png": "[encoded data removed]",
      "text/plain": [
       "<Figure size 576x396 with 1 Axes>"
      ]
     },
     "metadata": {},
     "output_type": "display_data"
    }
   ],
   "source": [
    "#Regplot between y_yest and predictions\n",
    "sns.regplot(y_test,rf_predictions)\n",
    "plt.xlabel('y_test',fontsize=14)\n",
    "plt.ylabel('Predictions',fontsize=14)\n",
    "plt.show()"
   ]
  },
  {
   "cell_type": "code",
   "execution_count": 53,
   "id": "d97a7cd1",
   "metadata": {},
   "outputs": [
    {
     "name": "stdout",
     "output_type": "stream",
     "text": [
      "MAE is 1.529387144992526\n",
      "MSE for test set is 4.547123766816143\n",
      "RMSE for test set is 2.132398594732266\n",
      "R2 score for test set is 0.5569408180042088\n",
      "Adjusted R2 score for test set is 0.5508899338798354\n"
     ]
    }
   ],
   "source": [
    "MAE = metrics.mean_absolute_error(y_test, rf_predictions)   \n",
    "print('MAE is {}'.format(MAE))\n",
    "\n",
    "MSE = metrics.mean_squared_error(y_test, rf_predictions)\n",
    "print('MSE for test set is {}'.format(MSE))\n",
    "\n",
    "RMSE = np.sqrt(metrics.mean_squared_error(y_test, rf_predictions))\n",
    "print('RMSE for test set is {}'.format(RMSE))\n",
    "\n",
    "r2 = metrics.r2_score(y_test,rf_predictions)\n",
    "print(\"R2 score for test set is {}\".format(r2))\n",
    "\n",
    "adj_r_squared = 1 - (1-r2)*(len(y_test)-1)/(len(y_test)-X_test.shape[1]-1)\n",
    "print(\"Adjusted R2 score for test set is {}\".format(adj_r_squared))"
   ]
  },
  {
   "cell_type": "code",
   "execution_count": 54,
   "id": "02907874",
   "metadata": {},
   "outputs": [],
   "source": [
    "from sklearn.model_selection import RandomizedSearchCV\n",
    "#Number of trees in random forest\n",
    "n_estimators = [int(x) for x in np.linspace(start = 100, stop = 500, num = 5)]\n",
    "\n",
    "# Number of features to consider at every split\n",
    "max_features = ['auto', 'sqrt']\n",
    "\n",
    "# Maximum number of levels in tree\n",
    "max_depth = [int(x) for x in np.linspace(5, 30, num = 6)]\n",
    "\n",
    "# Minimum number of samples required to split a node\n",
    "min_samples_split = [2, 5, 10, 15, 100]\n",
    "\n",
    "# Minimum number of samples required at each leaf node\n",
    "min_samples_leaf = [1, 2, 5, 10]\n",
    "\n",
    "# Method of selecting samples for training each tree\n",
    "# Create the random grid\n",
    "random_grid = {'n_estimators': n_estimators,\n",
    "'max_features': max_features,\n",
    "'max_depth': max_depth,\n",
    "'min_samples_split': min_samples_split,\n",
    "'min_samples_leaf': min_samples_leaf\n",
    "}"
   ]
  },
  {
   "cell_type": "code",
   "execution_count": 56,
   "id": "5fc4a1a7",
   "metadata": {},
   "outputs": [
    {
     "data": {
      "text/plain": [
       "RandomizedSearchCV(cv=5, estimator=RandomForestRegressor(), n_jobs=-1,\n",
       "                   param_distributions={'max_depth': [5, 10, 15, 20, 25, 30],\n",
       "                                        'max_features': ['auto', 'sqrt'],\n",
       "                                        'min_samples_leaf': [1, 2, 5, 10],\n",
       "                                        'min_samples_split': [2, 5, 10, 15,\n",
       "                                                              100],\n",
       "                                        'n_estimators': [100, 200, 300, 400,\n",
       "                                                         500]})"
      ]
     },
     "execution_count": 56,
     "metadata": {},
     "output_type": "execute_result"
    }
   ],
   "source": [
    "rf_randomcv=RandomizedSearchCV(estimator=rf,param_distributions=random_grid, cv=5, n_iter=10,n_jobs=-1)\n",
    "### fit the randomized model\n",
    "rf_randomcv.fit(X_train,y_train)"
   ]
  },
  {
   "cell_type": "code",
   "execution_count": 57,
   "id": "2cbc3522",
   "metadata": {},
   "outputs": [
    {
     "name": "stdout",
     "output_type": "stream",
     "text": [
      "RandomForestRegressor(max_depth=10, max_features='sqrt', min_samples_leaf=5,\n",
      "                      min_samples_split=10, n_estimators=500)\n"
     ]
    }
   ],
   "source": [
    "# Display the best estimator\n",
    "print(rf_randomcv.best_estimator_)"
   ]
  },
  {
   "cell_type": "code",
   "execution_count": 58,
   "id": "56a8296e",
   "metadata": {},
   "outputs": [
    {
     "name": "stdout",
     "output_type": "stream",
     "text": [
      "0.537072204243658\n"
     ]
    }
   ],
   "source": [
    "# Display the best score\n",
    "print(rf_randomcv.best_score_)"
   ]
  },
  {
   "cell_type": "code",
   "execution_count": 59,
   "id": "1aa6f685",
   "metadata": {},
   "outputs": [
    {
     "name": "stdout",
     "output_type": "stream",
     "text": [
      "{'n_estimators': 500, 'min_samples_split': 10, 'min_samples_leaf': 5, 'max_features': 'sqrt', 'max_depth': 10}\n"
     ]
    }
   ],
   "source": [
    "# Display the best selected parameter by the randomizedSearchCV\n",
    "print(rf_randomcv.best_params_)"
   ]
  },
  {
   "cell_type": "code",
   "execution_count": 60,
   "id": "b03cafb6",
   "metadata": {},
   "outputs": [],
   "source": [
    "best_random_grid=rf_randomcv.best_estimator_"
   ]
  },
  {
   "cell_type": "code",
   "execution_count": 61,
   "id": "6319b9f7",
   "metadata": {},
   "outputs": [],
   "source": [
    "rf_predictions_cv=best_random_grid.predict(X_test)"
   ]
  },
  {
   "cell_type": "code",
   "execution_count": 62,
   "id": "327a8a1c",
   "metadata": {},
   "outputs": [
    {
     "data": {
      "image/png": "[encoded data removed]",
      "text/plain": [
       "<Figure size 576x396 with 1 Axes>"
      ]
     },
     "metadata": {},
     "output_type": "display_data"
    }
   ],
   "source": [
    "#Regplot between y_yest and predictions\n",
    "sns.regplot(y_test,rf_predictions_cv)\n",
    "plt.xlabel('y_test',fontsize=14)\n",
    "plt.ylabel('Predictions',fontsize=14)\n",
    "plt.show()"
   ]
  },
  {
   "cell_type": "code",
   "execution_count": 63,
   "id": "bcfd5068",
   "metadata": {},
   "outputs": [
    {
     "name": "stdout",
     "output_type": "stream",
     "text": [
      "MAE is 1.460268745932345\n",
      "MSE for test set is 4.263635560225049\n",
      "RMSE for test set is 2.0648572735724495\n",
      "R2 score for test set is 0.5845631259418811\n",
      "Adjusted R2 score for test set is 0.5788894812278855\n"
     ]
    }
   ],
   "source": [
    "MAE = metrics.mean_absolute_error(y_test, rf_predictions_cv)   \n",
    "print('MAE is {}'.format(MAE))\n",
    "\n",
    "MSE = metrics.mean_squared_error(y_test, rf_predictions_cv)\n",
    "print('MSE for test set is {}'.format(MSE))\n",
    "\n",
    "RMSE = np.sqrt(metrics.mean_squared_error(y_test, rf_predictions_cv))\n",
    "print('RMSE for test set is {}'.format(RMSE))\n",
    "\n",
    "r2 = metrics.r2_score(y_test,rf_predictions_cv)\n",
    "print(\"R2 score for test set is {}\".format(r2))\n",
    "\n",
    "adj_r_squared = 1 - (1-r2)*(len(y_test)-1)/(len(y_test)-X_test.shape[1]-1)\n",
    "print(\"Adjusted R2 score for test set is {}\".format(adj_r_squared))"
   ]
  },
  {
   "cell_type": "markdown",
   "id": "5a71c8d1",
   "metadata": {},
   "source": [
    "#### Conclusion"
   ]
  },
  {
   "cell_type": "markdown",
   "id": "b3e6e5ce",
   "metadata": {},
   "source": [
    "Among all Machine Learning models Linear regression gave the best RMSE score. So, I will predict the test data set with Linear Regression"
   ]
  },
  {
   "cell_type": "markdown",
   "id": "15d4af5c",
   "metadata": {},
   "source": [
    "#### Working with Test Data"
   ]
  },
  {
   "cell_type": "code",
   "execution_count": 64,
   "id": "0a682414",
   "metadata": {},
   "outputs": [],
   "source": [
    "test=pd.read_csv('abalone_test.csv')"
   ]
  },
  {
   "cell_type": "code",
   "execution_count": 65,
   "id": "b5c90fdf",
   "metadata": {},
   "outputs": [
    {
     "data": {
      "text/html": [
       "<div>\n",
       "<style scoped>\n",
       "    .dataframe tbody tr th:only-of-type {\n",
       "        vertical-align: middle;\n",
       "    }\n",
       "\n",
       "    .dataframe tbody tr th {\n",
       "        vertical-align: top;\n",
       "    }\n",
       "\n",
       "    .dataframe thead th {\n",
       "        text-align: right;\n",
       "    }\n",
       "</style>\n",
       "<table border=\"1\" class=\"dataframe\">\n",
       "  <thead>\n",
       "    <tr style=\"text-align: right;\">\n",
       "      <th></th>\n",
       "      <th>Id</th>\n",
       "      <th>Sex</th>\n",
       "      <th>Length</th>\n",
       "      <th>Diameter</th>\n",
       "      <th>Height</th>\n",
       "      <th>Whole_weight</th>\n",
       "      <th>Shucked_weight</th>\n",
       "      <th>Viscera_weight</th>\n",
       "      <th>Shell_weight</th>\n",
       "    </tr>\n",
       "  </thead>\n",
       "  <tbody>\n",
       "    <tr>\n",
       "      <th>0</th>\n",
       "      <td>668</td>\n",
       "      <td>M</td>\n",
       "      <td>0.550</td>\n",
       "      <td>0.425</td>\n",
       "      <td>0.155</td>\n",
       "      <td>0.9175</td>\n",
       "      <td>0.2775</td>\n",
       "      <td>0.2430</td>\n",
       "      <td>0.3350</td>\n",
       "    </tr>\n",
       "    <tr>\n",
       "      <th>1</th>\n",
       "      <td>1580</td>\n",
       "      <td>I</td>\n",
       "      <td>0.500</td>\n",
       "      <td>0.400</td>\n",
       "      <td>0.120</td>\n",
       "      <td>0.6160</td>\n",
       "      <td>0.2610</td>\n",
       "      <td>0.1430</td>\n",
       "      <td>0.1935</td>\n",
       "    </tr>\n",
       "    <tr>\n",
       "      <th>2</th>\n",
       "      <td>3784</td>\n",
       "      <td>M</td>\n",
       "      <td>0.620</td>\n",
       "      <td>0.480</td>\n",
       "      <td>0.155</td>\n",
       "      <td>1.2555</td>\n",
       "      <td>0.5270</td>\n",
       "      <td>0.3740</td>\n",
       "      <td>0.3175</td>\n",
       "    </tr>\n",
       "    <tr>\n",
       "      <th>3</th>\n",
       "      <td>463</td>\n",
       "      <td>I</td>\n",
       "      <td>0.220</td>\n",
       "      <td>0.165</td>\n",
       "      <td>0.055</td>\n",
       "      <td>0.0545</td>\n",
       "      <td>0.0215</td>\n",
       "      <td>0.0120</td>\n",
       "      <td>0.0200</td>\n",
       "    </tr>\n",
       "    <tr>\n",
       "      <th>4</th>\n",
       "      <td>2615</td>\n",
       "      <td>M</td>\n",
       "      <td>0.645</td>\n",
       "      <td>0.500</td>\n",
       "      <td>0.175</td>\n",
       "      <td>1.5105</td>\n",
       "      <td>0.6735</td>\n",
       "      <td>0.3755</td>\n",
       "      <td>0.3775</td>\n",
       "    </tr>\n",
       "  </tbody>\n",
       "</table>\n",
       "</div>"
      ],
      "text/plain": [
       "     Id Sex  Length  Diameter  Height  Whole_weight  Shucked_weight  \\\n",
       "0   668   M   0.550     0.425   0.155        0.9175          0.2775   \n",
       "1  1580   I   0.500     0.400   0.120        0.6160          0.2610   \n",
       "2  3784   M   0.620     0.480   0.155        1.2555          0.5270   \n",
       "3   463   I   0.220     0.165   0.055        0.0545          0.0215   \n",
       "4  2615   M   0.645     0.500   0.175        1.5105          0.6735   \n",
       "\n",
       "   Viscera_weight  Shell_weight  \n",
       "0          0.2430        0.3350  \n",
       "1          0.1430        0.1935  \n",
       "2          0.3740        0.3175  \n",
       "3          0.0120        0.0200  \n",
       "4          0.3755        0.3775  "
      ]
     },
     "execution_count": 65,
     "metadata": {},
     "output_type": "execute_result"
    }
   ],
   "source": [
    "test.head()"
   ]
  },
  {
   "cell_type": "code",
   "execution_count": 66,
   "id": "36592a7b",
   "metadata": {},
   "outputs": [],
   "source": [
    "#drop Id Column\n",
    "test.drop('Id',axis=1,inplace=True)"
   ]
  },
  {
   "cell_type": "code",
   "execution_count": 67,
   "id": "ff256c1b",
   "metadata": {},
   "outputs": [],
   "source": [
    "#Applying One-hot encoding for Sex column \n",
    "test=pd.get_dummies(test,columns=['Sex'],drop_first=True)"
   ]
  },
  {
   "cell_type": "code",
   "execution_count": 68,
   "id": "41b4b2da",
   "metadata": {},
   "outputs": [
    {
     "data": {
      "text/html": [
       "<div>\n",
       "<style scoped>\n",
       "    .dataframe tbody tr th:only-of-type {\n",
       "        vertical-align: middle;\n",
       "    }\n",
       "\n",
       "    .dataframe tbody tr th {\n",
       "        vertical-align: top;\n",
       "    }\n",
       "\n",
       "    .dataframe thead th {\n",
       "        text-align: right;\n",
       "    }\n",
       "</style>\n",
       "<table border=\"1\" class=\"dataframe\">\n",
       "  <thead>\n",
       "    <tr style=\"text-align: right;\">\n",
       "      <th></th>\n",
       "      <th>Length</th>\n",
       "      <th>Diameter</th>\n",
       "      <th>Height</th>\n",
       "      <th>Whole_weight</th>\n",
       "      <th>Shucked_weight</th>\n",
       "      <th>Viscera_weight</th>\n",
       "      <th>Shell_weight</th>\n",
       "      <th>Sex_I</th>\n",
       "      <th>Sex_M</th>\n",
       "    </tr>\n",
       "  </thead>\n",
       "  <tbody>\n",
       "    <tr>\n",
       "      <th>0</th>\n",
       "      <td>0.550</td>\n",
       "      <td>0.425</td>\n",
       "      <td>0.155</td>\n",
       "      <td>0.9175</td>\n",
       "      <td>0.2775</td>\n",
       "      <td>0.2430</td>\n",
       "      <td>0.3350</td>\n",
       "      <td>0</td>\n",
       "      <td>1</td>\n",
       "    </tr>\n",
       "    <tr>\n",
       "      <th>1</th>\n",
       "      <td>0.500</td>\n",
       "      <td>0.400</td>\n",
       "      <td>0.120</td>\n",
       "      <td>0.6160</td>\n",
       "      <td>0.2610</td>\n",
       "      <td>0.1430</td>\n",
       "      <td>0.1935</td>\n",
       "      <td>1</td>\n",
       "      <td>0</td>\n",
       "    </tr>\n",
       "    <tr>\n",
       "      <th>2</th>\n",
       "      <td>0.620</td>\n",
       "      <td>0.480</td>\n",
       "      <td>0.155</td>\n",
       "      <td>1.2555</td>\n",
       "      <td>0.5270</td>\n",
       "      <td>0.3740</td>\n",
       "      <td>0.3175</td>\n",
       "      <td>0</td>\n",
       "      <td>1</td>\n",
       "    </tr>\n",
       "    <tr>\n",
       "      <th>3</th>\n",
       "      <td>0.220</td>\n",
       "      <td>0.165</td>\n",
       "      <td>0.055</td>\n",
       "      <td>0.0545</td>\n",
       "      <td>0.0215</td>\n",
       "      <td>0.0120</td>\n",
       "      <td>0.0200</td>\n",
       "      <td>1</td>\n",
       "      <td>0</td>\n",
       "    </tr>\n",
       "    <tr>\n",
       "      <th>4</th>\n",
       "      <td>0.645</td>\n",
       "      <td>0.500</td>\n",
       "      <td>0.175</td>\n",
       "      <td>1.5105</td>\n",
       "      <td>0.6735</td>\n",
       "      <td>0.3755</td>\n",
       "      <td>0.3775</td>\n",
       "      <td>0</td>\n",
       "      <td>1</td>\n",
       "    </tr>\n",
       "    <tr>\n",
       "      <th>...</th>\n",
       "      <td>...</td>\n",
       "      <td>...</td>\n",
       "      <td>...</td>\n",
       "      <td>...</td>\n",
       "      <td>...</td>\n",
       "      <td>...</td>\n",
       "      <td>...</td>\n",
       "      <td>...</td>\n",
       "      <td>...</td>\n",
       "    </tr>\n",
       "    <tr>\n",
       "      <th>831</th>\n",
       "      <td>0.610</td>\n",
       "      <td>0.475</td>\n",
       "      <td>0.140</td>\n",
       "      <td>1.1330</td>\n",
       "      <td>0.5275</td>\n",
       "      <td>0.2355</td>\n",
       "      <td>0.3500</td>\n",
       "      <td>0</td>\n",
       "      <td>0</td>\n",
       "    </tr>\n",
       "    <tr>\n",
       "      <th>832</th>\n",
       "      <td>0.410</td>\n",
       "      <td>0.325</td>\n",
       "      <td>0.120</td>\n",
       "      <td>0.3745</td>\n",
       "      <td>0.1580</td>\n",
       "      <td>0.0810</td>\n",
       "      <td>0.1250</td>\n",
       "      <td>0</td>\n",
       "      <td>1</td>\n",
       "    </tr>\n",
       "    <tr>\n",
       "      <th>833</th>\n",
       "      <td>0.445</td>\n",
       "      <td>0.345</td>\n",
       "      <td>0.105</td>\n",
       "      <td>0.4090</td>\n",
       "      <td>0.1675</td>\n",
       "      <td>0.1015</td>\n",
       "      <td>0.1170</td>\n",
       "      <td>1</td>\n",
       "      <td>0</td>\n",
       "    </tr>\n",
       "    <tr>\n",
       "      <th>834</th>\n",
       "      <td>0.540</td>\n",
       "      <td>0.435</td>\n",
       "      <td>0.180</td>\n",
       "      <td>0.9960</td>\n",
       "      <td>0.3835</td>\n",
       "      <td>0.2260</td>\n",
       "      <td>0.3250</td>\n",
       "      <td>0</td>\n",
       "      <td>1</td>\n",
       "    </tr>\n",
       "    <tr>\n",
       "      <th>835</th>\n",
       "      <td>0.250</td>\n",
       "      <td>0.175</td>\n",
       "      <td>0.060</td>\n",
       "      <td>0.0635</td>\n",
       "      <td>0.0275</td>\n",
       "      <td>0.0080</td>\n",
       "      <td>0.0200</td>\n",
       "      <td>1</td>\n",
       "      <td>0</td>\n",
       "    </tr>\n",
       "  </tbody>\n",
       "</table>\n",
       "<p>836 rows × 9 columns</p>\n",
       "</div>"
      ],
      "text/plain": [
       "     Length  Diameter  Height  Whole_weight  Shucked_weight  Viscera_weight  \\\n",
       "0     0.550     0.425   0.155        0.9175          0.2775          0.2430   \n",
       "1     0.500     0.400   0.120        0.6160          0.2610          0.1430   \n",
       "2     0.620     0.480   0.155        1.2555          0.5270          0.3740   \n",
       "3     0.220     0.165   0.055        0.0545          0.0215          0.0120   \n",
       "4     0.645     0.500   0.175        1.5105          0.6735          0.3755   \n",
       "..      ...       ...     ...           ...             ...             ...   \n",
       "831   0.610     0.475   0.140        1.1330          0.5275          0.2355   \n",
       "832   0.410     0.325   0.120        0.3745          0.1580          0.0810   \n",
       "833   0.445     0.345   0.105        0.4090          0.1675          0.1015   \n",
       "834   0.540     0.435   0.180        0.9960          0.3835          0.2260   \n",
       "835   0.250     0.175   0.060        0.0635          0.0275          0.0080   \n",
       "\n",
       "     Shell_weight  Sex_I  Sex_M  \n",
       "0          0.3350      0      1  \n",
       "1          0.1935      1      0  \n",
       "2          0.3175      0      1  \n",
       "3          0.0200      1      0  \n",
       "4          0.3775      0      1  \n",
       "..            ...    ...    ...  \n",
       "831        0.3500      0      0  \n",
       "832        0.1250      0      1  \n",
       "833        0.1170      1      0  \n",
       "834        0.3250      0      1  \n",
       "835        0.0200      1      0  \n",
       "\n",
       "[836 rows x 9 columns]"
      ]
     },
     "execution_count": 68,
     "metadata": {},
     "output_type": "execute_result"
    }
   ],
   "source": [
    "test"
   ]
  },
  {
   "cell_type": "code",
   "execution_count": 70,
   "id": "6cef6e9a",
   "metadata": {},
   "outputs": [],
   "source": [
    "test_predictions=lr.predict(test)"
   ]
  },
  {
   "cell_type": "code",
   "execution_count": 81,
   "id": "59637573",
   "metadata": {},
   "outputs": [],
   "source": [
    "df = pd.DataFrame(np.round(test_predictions,0), columns=['predictions']).to_csv('AbalonePrediction.csv',index=False,header=False)"
   ]
  },
  {
   "cell_type": "code",
   "execution_count": null,
   "id": "a239acc9",
   "metadata": {},
   "outputs": [],
   "source": []
  },
  {
   "cell_type": "code",
   "execution_count": null,
   "id": "0bdac05d",
   "metadata": {},
   "outputs": [],
   "source": []
  }
 ],
 "metadata": {
  "kernelspec": {
   "display_name": "Python 3 (ipykernel)",
   "language": "python",
   "name": "python3"
  },
  "language_info": {
   "codemirror_mode": {
    "name": "ipython",
    "version": 3
   },
   "file_extension": ".py",
   "mimetype": "text/x-python",
   "name": "python",
   "nbconvert_exporter": "python",
   "pygments_lexer": "ipython3",
   "version": "3.8.12"
  }
 },
 "nbformat": 4,
 "nbformat_minor": 5
}
